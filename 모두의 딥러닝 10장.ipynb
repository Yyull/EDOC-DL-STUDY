{
 "cells": [
  {
   "cell_type": "markdown",
   "id": "06e1f383",
   "metadata": {},
   "source": [
    "## 폐암 수술 환자의 생존율 예측하기"
   ]
  },
  {
   "cell_type": "code",
   "execution_count": 2,
   "id": "2b738059",
   "metadata": {},
   "outputs": [],
   "source": [
    "from tensorflow.keras.models import Sequential\n",
    "from tensorflow.keras.layers import Dense\n",
    "\n",
    "import numpy as np"
   ]
  },
  {
   "cell_type": "markdown",
   "id": "3a3723a2",
   "metadata": {},
   "source": [
    "### 데이터 준비"
   ]
  },
  {
   "cell_type": "code",
   "execution_count": 3,
   "id": "856177bd",
   "metadata": {},
   "outputs": [],
   "source": [
    "Data_set = np.loadtxt(\"ThoraricSurgery3.csv\", delimiter=\",\")\n",
    "\n",
    "X = Data_set[:,0:16] # 환자의 진찰 기록\n",
    "y = Data_set[:,16]  # 수술 결과"
   ]
  },
  {
   "cell_type": "markdown",
   "id": "28f48870",
   "metadata": {},
   "source": [
    "### 딥러닝 구조 결정"
   ]
  },
  {
   "cell_type": "code",
   "execution_count": 4,
   "id": "7479d3bd",
   "metadata": {},
   "outputs": [
    {
     "name": "stderr",
     "output_type": "stream",
     "text": [
      "C:\\Users\\yrh07\\anaconda3\\Lib\\site-packages\\keras\\src\\layers\\core\\dense.py:85: UserWarning: Do not pass an `input_shape`/`input_dim` argument to a layer. When using Sequential models, prefer using an `Input(shape)` object as the first layer in the model instead.\n",
      "  super().__init__(activity_regularizer=activity_regularizer, **kwargs)\n"
     ]
    }
   ],
   "source": [
    "model = Sequential()                                                   \n",
    "model.add(Dense(30, input_dim=16, activation='relu'))\n",
    "model.add(Dense(1, activation='sigmoid'))"
   ]
  },
  {
   "cell_type": "markdown",
   "id": "f5f31832",
   "metadata": {},
   "source": [
    "### 딥러닝 실행"
   ]
  },
  {
   "cell_type": "code",
   "execution_count": 5,
   "id": "63c8dcc6",
   "metadata": {},
   "outputs": [
    {
     "name": "stdout",
     "output_type": "stream",
     "text": [
      "Epoch 1/5\n",
      "\u001b[1m30/30\u001b[0m \u001b[32m━━━━━━━━━━━━━━━━━━━━\u001b[0m\u001b[37m\u001b[0m \u001b[1m1s\u001b[0m 825us/step - accuracy: 0.8650 - loss: 2.0190 \n",
      "Epoch 2/5\n",
      "\u001b[1m30/30\u001b[0m \u001b[32m━━━━━━━━━━━━━━━━━━━━\u001b[0m\u001b[37m\u001b[0m \u001b[1m0s\u001b[0m 516us/step - accuracy: 0.8089 - loss: 0.9227\n",
      "Epoch 3/5\n",
      "\u001b[1m30/30\u001b[0m \u001b[32m━━━━━━━━━━━━━━━━━━━━\u001b[0m\u001b[37m\u001b[0m \u001b[1m0s\u001b[0m 550us/step - accuracy: 0.8676 - loss: 0.3790\n",
      "Epoch 4/5\n",
      "\u001b[1m30/30\u001b[0m \u001b[32m━━━━━━━━━━━━━━━━━━━━\u001b[0m\u001b[37m\u001b[0m \u001b[1m0s\u001b[0m 516us/step - accuracy: 0.8711 - loss: 0.3762\n",
      "Epoch 5/5\n",
      "\u001b[1m30/30\u001b[0m \u001b[32m━━━━━━━━━━━━━━━━━━━━\u001b[0m\u001b[37m\u001b[0m \u001b[1m0s\u001b[0m 548us/step - accuracy: 0.8364 - loss: 0.4314\n"
     ]
    }
   ],
   "source": [
    "model.compile(loss='binary_crossentropy', optimizer='adam', metrics=['accuracy']) \n",
    "history=model.fit(X, y, epochs=5, batch_size=16)"
   ]
  }
 ],
 "metadata": {
  "kernelspec": {
   "display_name": "Python 3 (ipykernel)",
   "language": "python",
   "name": "python3"
  },
  "language_info": {
   "codemirror_mode": {
    "name": "ipython",
    "version": 3
   },
   "file_extension": ".py",
   "mimetype": "text/x-python",
   "name": "python",
   "nbconvert_exporter": "python",
   "pygments_lexer": "ipython3",
   "version": "3.11.5"
  }
 },
 "nbformat": 4,
 "nbformat_minor": 5
}
